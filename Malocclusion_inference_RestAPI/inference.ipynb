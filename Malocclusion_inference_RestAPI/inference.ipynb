{
 "cells": [
  {
   "cell_type": "code",
   "execution_count": 16,
   "id": "7dc51e3a-c4c2-4b22-b6f8-d73e3805df65",
   "metadata": {},
   "outputs": [],
   "source": [
    "import glob\n",
    "import os\n",
    "import pprint\n",
    "from tqdm import tqdm\n",
    "from sklearn.utils import Bunch\n",
    "\n",
    "from IPython import display\n",
    "import ipywidgets as widgets\n",
    "\n",
    "%matplotlib inline\n",
    "from matplotlib import pyplot as plt\n",
    "plt.style.use('seaborn-white')\n",
    "import numpy as np\n",
    "import pandas as pd\n",
    "import seaborn as sns\n",
    "sns.set_style('white')\n",
    "import requests\n",
    "import cv2 as cv\n",
    "from sklearn.metrics import confusion_matrix\n"
   ]
  },
  {
   "cell_type": "code",
   "execution_count": 17,
   "id": "713873eb-ef65-401b-913a-7017691507ab",
   "metadata": {},
   "outputs": [
    {
     "data": {
      "text/plain": [
       "40"
      ]
     },
     "execution_count": 17,
     "metadata": {},
     "output_type": "execute_result"
    }
   ],
   "source": [
    "len(os.listdir('data'))"
   ]
  },
  {
   "cell_type": "code",
   "execution_count": 18,
   "id": "61576659-d70d-4136-b4b6-c9075aa17337",
   "metadata": {},
   "outputs": [
    {
     "name": "stdin",
     "output_type": "stream",
     "text": [
      "Data Directory :  data\n"
     ]
    }
   ],
   "source": [
    "Data_dir = input(\"Data Directory : \")\n",
    "\n",
    "data_path_list = []\n",
    "for i in range(len(os.listdir(f'{Data_dir}'))):\n",
    "    data_path_list.append(glob.glob(os.path.join(f'{Data_dir}',\n",
    "                                                 os.listdir(f'{Data_dir}')[i],'*.jpg'))[0])\n",
    "patient_list=os.listdir(f'{Data_dir}')"
   ]
  },
  {
   "cell_type": "code",
   "execution_count": 19,
   "id": "0e92c96d-9de6-4e4b-84ec-1c5e26991736",
   "metadata": {},
   "outputs": [
    {
     "name": "stderr",
     "output_type": "stream",
     "text": [
      "100%|██████████████████████████████████████████████████████████████████████████████████| 40/40 [01:09<00:00,  1.73s/it]\n"
     ]
    }
   ],
   "source": [
    "url = 'http://127.0.0.1:8000/MalocclussionInference/v01/'\n",
    "for i in tqdm(range(len(data_path_list))):\n",
    "    fstr = data_path_list[i]\n",
    "    with open(fstr,'rb') as files:\n",
    "        upload = {'Malocclusion_Image':files}\n",
    "\n",
    "        res = requests.post(url, files=upload)\n",
    "res = requests.get(url)\n",
    "\n",
    "#####################################################################\n",
    "Pr_R = []\n",
    "Pr_L = []\n",
    "\n",
    "for i in range(len(data_path_list)):\n",
    "    Pr_R.append(res.json()[i][\"Prediction_Angle_Class_R\"])\n",
    "    Pr_L.append(res.json()[i][\"Prediction_Angle_Class_L\"])\n",
    "prediction_result = pd.DataFrame({\"patient_id\": patient_list,\n",
    "                                  \"Prediction_angle_clss_r\": Pr_R,\n",
    "                                  \"Prediction_angle_clss_l\": Pr_L },)\n",
    "prediction_result.to_csv('prediction_result.csv',index=False)\n",
    "prediction_y = Pr_R+Pr_L\n",
    "label_csv = pd.read_csv('./label.csv')\n",
    "y_class = label_csv.loc[:, ['angle_class_r', 'angle_class_l']].to_numpy()\n",
    "label_R = []\n",
    "label_L = []\n",
    "\n",
    "for i in range(len(y_class)):\n",
    "    label_R.append(y_class[i][0])\n",
    "    label_L.append(y_class[i][1])\n",
    "label = label_R +label_L"
   ]
  },
  {
   "cell_type": "code",
   "execution_count": 20,
   "id": "78eeaa46-9bca-4d0f-9eff-af458fdc8a4c",
   "metadata": {},
   "outputs": [
    {
     "name": "stdout",
     "output_type": "stream",
     "text": [
      "class 1 :  24\n",
      "class 2 :  28\n",
      "class 3 :  28\n"
     ]
    }
   ],
   "source": [
    "print('class 1 : ',len(np.where(y_class==1)[0]))\n",
    "print('class 2 : ',len(np.where(y_class==2)[0]))\n",
    "print('class 3 : ',len(np.where(y_class==3)[0]))"
   ]
  },
  {
   "cell_type": "code",
   "execution_count": 21,
   "id": "7cb37a2b-d145-4ba9-832c-053081fd32a4",
   "metadata": {},
   "outputs": [
    {
     "data": {
      "text/plain": [
       "array([[24,  0,  0],\n",
       "       [ 1, 27,  0],\n",
       "       [ 0,  0, 28]], dtype=int64)"
      ]
     },
     "execution_count": 21,
     "metadata": {},
     "output_type": "execute_result"
    }
   ],
   "source": [
    "\n",
    "cm = confusion_matrix(label, prediction_y, labels=[1, 2, 3])\n",
    "cm"
   ]
  },
  {
   "cell_type": "code",
   "execution_count": 22,
   "id": "ab0f5c56-a62a-4800-9530-4a46bab2b81f",
   "metadata": {},
   "outputs": [
    {
     "name": "stdout",
     "output_type": "stream",
     "text": [
      "Accuracy: 0.988\n"
     ]
    }
   ],
   "source": [
    "accuracy = (cm[0, 0] + cm[1, 1] + cm[2, 2]) / cm.sum()\n",
    "\n",
    "print(f'Accuracy: {accuracy:.3f}')"
   ]
  },
  {
   "cell_type": "code",
   "execution_count": 23,
   "id": "2b9f6a0b-a2c6-4d3d-9fb1-2dd85b572c10",
   "metadata": {},
   "outputs": [
    {
     "name": "stdout",
     "output_type": "stream",
     "text": [
      "Class 1: 1.000\n",
      "Class 2: 0.964\n",
      "Class 3: 1.000\n",
      "Recall (average): 0.988\n"
     ]
    }
   ],
   "source": [
    "recall_class1 = cm[0, 0] / cm[0].sum()\n",
    "recall_class2 = cm[1, 1] / cm[1].sum()\n",
    "recall_class3 = cm[2, 2] / cm[2].sum()\n",
    "recall = (recall_class1 + recall_class2 + recall_class3) / 3\n",
    "\n",
    "print(f'Class 1: {recall_class1:.3f}')\n",
    "print(f'Class 2: {recall_class2:.3f}')\n",
    "print(f'Class 3: {recall_class3:.3f}')\n",
    "print(f'Recall (average): {recall:.3f}')"
   ]
  },
  {
   "cell_type": "code",
   "execution_count": 24,
   "id": "646abfa9-efa6-4f7f-acb7-f8dd6291d7e6",
   "metadata": {},
   "outputs": [
    {
     "name": "stdout",
     "output_type": "stream",
     "text": [
      "Class 1: 0.960\n",
      "Class 2: 1.000\n",
      "Class 3: 1.000\n",
      "Precision (average): 0.987\n"
     ]
    }
   ],
   "source": [
    "precision_class1 = cm[0, 0] / cm[:, 0].sum()\n",
    "precision_class2 = cm[1, 1] / cm[:, 1].sum()\n",
    "precision_class3 = cm[2, 2] / cm[:, 2].sum()\n",
    "precision = (precision_class1 + precision_class2 + precision_class3) / 3\n",
    "\n",
    "print(f'Class 1: {precision_class1:.3f}')\n",
    "print(f'Class 2: {precision_class2:.3f}')\n",
    "print(f'Class 3: {precision_class3:.3f}')\n",
    "print(f'Precision (average): {precision:.3f}')"
   ]
  },
  {
   "cell_type": "code",
   "execution_count": null,
   "id": "f3003af7-9e34-4eb6-ae34-b5dcb6b4df54",
   "metadata": {},
   "outputs": [],
   "source": []
  },
  {
   "cell_type": "code",
   "execution_count": null,
   "id": "83d7d3a4-7b34-4df3-aa6f-9ecbe2b6f367",
   "metadata": {},
   "outputs": [],
   "source": []
  }
 ],
 "metadata": {
  "kernelspec": {
   "display_name": "Python 3 (ipykernel)",
   "language": "python",
   "name": "python3"
  },
  "language_info": {
   "codemirror_mode": {
    "name": "ipython",
    "version": 3
   },
   "file_extension": ".py",
   "mimetype": "text/x-python",
   "name": "python",
   "nbconvert_exporter": "python",
   "pygments_lexer": "ipython3",
   "version": "3.8.3"
  }
 },
 "nbformat": 4,
 "nbformat_minor": 5
}
