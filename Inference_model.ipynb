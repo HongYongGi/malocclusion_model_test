{
 "cells": [
  {
   "cell_type": "code",
   "execution_count": 6,
   "id": "fb4834e6-3d6b-4033-a310-59c72eac4832",
   "metadata": {},
   "outputs": [],
   "source": [
    "import numpy as np\n",
    "import pandas as pd\n",
    "import os\n",
    "import glob\n",
    "from tensorflow.keras import models\n",
    "from tensorflow.keras import optimizers\n",
    "from tensorflow.keras.applications.inception_resnet_v2 import preprocess_input\n",
    "import numpy as np\n",
    "import cv2 as cv\n",
    "import os\n",
    "from sklearn.utils import Bunch\n",
    "from sklearn.metrics import confusion_matrix\n",
    "import mmmil.utils.postprocessing as utils"
   ]
  },
  {
   "cell_type": "code",
   "execution_count": 7,
   "id": "5cb1e91a-3edc-4637-a064-fe0c659154ce",
   "metadata": {},
   "outputs": [
    {
     "data": {
      "text/plain": [
       "'2.1.0'"
      ]
     },
     "execution_count": 7,
     "metadata": {},
     "output_type": "execute_result"
    }
   ],
   "source": [
    "import tensorflow as tf\n",
    "tf.__version__"
   ]
  },
  {
   "cell_type": "markdown",
   "id": "a84c0314-9b13-4ff6-8757-6ad7b98a9b03",
   "metadata": {
    "tags": []
   },
   "source": [
    "# Variables"
   ]
  },
  {
   "cell_type": "code",
   "execution_count": 8,
   "id": "f225e56f-c4a6-4e92-8a12-3c5031cd1816",
   "metadata": {},
   "outputs": [],
   "source": [
    "\n",
    "Data_dir = './data/Test_40/'\n",
    "label_csv_path ='./data/label_40.csv'\n"
   ]
  },
  {
   "cell_type": "code",
   "execution_count": 3,
   "id": "5abcd4bb-b469-4045-a007-5ee98b32ff04",
   "metadata": {},
   "outputs": [],
   "source": [
    "\n",
    "def model_prediction(x_test, model):\n",
    "    result = []\n",
    "\n",
    "    prediction = model.predict(x_test)\n",
    "    # prediction2 = model2.predict(x_test)\n",
    "\n",
    "    prediction_pseudo_distance_r = prediction[0][:int(prediction[0].shape[0] / 2), 0]  # Right\n",
    "    prediction_pseudo_distance_l = prediction[0][int(prediction[0].shape[0] / 2):, 0]  # left\n",
    "\n",
    "    prediction_class_r = prediction[1][:int(prediction[1].shape[0] / 2)]  # Right\n",
    "    prediction_class_l = prediction[1][int(prediction[1].shape[0] / 2):]  # left\n",
    "\n",
    "    prediction_measured_distance_r = prediction[2][:int(prediction[2].shape[0] / 2)]  # Right\n",
    "    prediction_measured_distance_l = prediction[2][int(prediction[2].shape[0] / 2):]  # left\n",
    "\n",
    "\n",
    "    result.append(prediction_pseudo_distance_r)\n",
    "    result.append(prediction_pseudo_distance_l)\n",
    "    result.append(prediction_class_r)\n",
    "    result.append(prediction_class_l)\n",
    "    result.append(prediction_measured_distance_r)\n",
    "    result.append(prediction_measured_distance_l)\n",
    "\n",
    "    return result\n"
   ]
  },
  {
   "cell_type": "code",
   "execution_count": 9,
   "id": "d904529b-e5b9-4f41-9a57-48565969e537",
   "metadata": {},
   "outputs": [],
   "source": [
    "data_path_list = []\n",
    "for i in range(len(os.listdir(f'{Data_dir}'))):\n",
    "    data_path_list.append(glob.glob(os.path.join(f'{Data_dir}',\n",
    "                                                 os.listdir(f'{Data_dir}')[i],\n",
    "                                                 '*.jpg'))[0])\n",
    "patient_list=os.listdir(f'{Data_dir}')"
   ]
  },
  {
   "cell_type": "code",
   "execution_count": 10,
   "id": "1d042252-2dd7-4da5-a6ae-d17cf348c177",
   "metadata": {},
   "outputs": [],
   "source": [
    "Pr_R = []\n",
    "Pr_L = []\n",
    "\n",
    "for i in range(len(data_path_list)):\n",
    "    malocclusion_predict = utils.malocclusion_result(data_path_list[i])\n",
    "    Pr_R.append(malocclusion_predict[\"Right_class\"])\n",
    "    Pr_L.append(malocclusion_predict[\"Left_class\"])\n",
    "    \n",
    "    \n",
    "prediction_result = pd.DataFrame({\"patient_id\": patient_list,\n",
    "                                  \"Prediction_angle_clss_r\": Pr_R,\n",
    "                                  \"Prediction_angle_clss_l\": Pr_L },)\n",
    "# prediction_result.to_csv('prediction_result.csv',index=False)\n",
    "prediction_y = Pr_R+Pr_L\n",
    "\n",
    "label_csv = pd.read_csv(label_csv_path)\n",
    "y_class = label_csv.loc[:, ['Angle_Class_Type_Right', 'Angle_Class_Type_Left']].to_numpy()\n",
    "label_R = []\n",
    "label_L = []\n",
    "\n",
    "for i in range(len(y_class)):\n",
    "    label_R.append(y_class[i][0])\n",
    "    label_L.append(y_class[i][1])\n",
    "label = label_R +label_L\n"
   ]
  },
  {
   "cell_type": "code",
   "execution_count": 11,
   "id": "cf897f95-2f86-4e24-9985-22004b7d9bac",
   "metadata": {},
   "outputs": [
    {
     "name": "stdout",
     "output_type": "stream",
     "text": [
      "class 1 :  24\n",
      "class 2 :  28\n",
      "class 3 :  28\n",
      "############################\n",
      "Confusion matrix\n",
      "[[24  0  0]\n",
      " [ 1 27  0]\n",
      " [ 0  0 28]]\n",
      "############################\n",
      "Accuracy: 0.988\n",
      "############################\n",
      "Class 1: 1.000\n",
      "Class 2: 0.964\n",
      "Class 3: 1.000\n",
      "Recall (average): 0.988\n",
      "############################\n",
      "Class 1: 0.960\n",
      "Class 2: 1.000\n",
      "Class 3: 1.000\n",
      "Precision (average): 0.987\n",
      "############################\n"
     ]
    }
   ],
   "source": [
    "print('class 1 : ',len(np.where(y_class==1)[0]))\n",
    "print('class 2 : ',len(np.where(y_class==2)[0]))\n",
    "print('class 3 : ',len(np.where(y_class==3)[0]))\n",
    "cm = confusion_matrix(label, prediction_y, labels=[1, 2, 3])\n",
    "print(\"############################\")\n",
    "\n",
    "print(\"Confusion matrix\")\n",
    "print(cm)\n",
    "\n",
    "print(\"############################\")\n",
    "accuracy = (cm[0, 0] + cm[1, 1] + cm[2, 2]) / cm.sum()\n",
    "\n",
    "print(f'Accuracy: {accuracy:.3f}')\n",
    "print(\"############################\")\n",
    "\n",
    "recall_class1 = cm[0, 0] / cm[0].sum()\n",
    "recall_class2 = cm[1, 1] / cm[1].sum()\n",
    "recall_class3 = cm[2, 2] / cm[2].sum()\n",
    "recall = (recall_class1 + recall_class2 + recall_class3) / 3\n",
    "\n",
    "print(f'Class 1: {recall_class1:.3f}')\n",
    "print(f'Class 2: {recall_class2:.3f}')\n",
    "print(f'Class 3: {recall_class3:.3f}')\n",
    "print(f'Recall (average): {recall:.3f}')\n",
    "\n",
    "print(\"############################\")\n",
    "\n",
    "\n",
    "precision_class1 = cm[0, 0] / cm[:, 0].sum()\n",
    "precision_class2 = cm[1, 1] / cm[:, 1].sum()\n",
    "precision_class3 = cm[2, 2] / cm[:, 2].sum()\n",
    "precision = (precision_class1 + precision_class2 + precision_class3) / 3\n",
    "\n",
    "print(f'Class 1: {precision_class1:.3f}')\n",
    "print(f'Class 2: {precision_class2:.3f}')\n",
    "print(f'Class 3: {precision_class3:.3f}')\n",
    "print(f'Precision (average): {precision:.3f}')\n",
    "print(\"############################\")\n"
   ]
  },
  {
   "cell_type": "code",
   "execution_count": null,
   "id": "60a8425b-ce03-4876-913e-0598a098082f",
   "metadata": {},
   "outputs": [],
   "source": []
  }
 ],
 "metadata": {
  "kernelspec": {
   "display_name": "Python 3 (ipykernel)",
   "language": "python",
   "name": "python3"
  },
  "language_info": {
   "codemirror_mode": {
    "name": "ipython",
    "version": 3
   },
   "file_extension": ".py",
   "mimetype": "text/x-python",
   "name": "python",
   "nbconvert_exporter": "python",
   "pygments_lexer": "ipython3",
   "version": "3.7.11"
  }
 },
 "nbformat": 4,
 "nbformat_minor": 5
}
